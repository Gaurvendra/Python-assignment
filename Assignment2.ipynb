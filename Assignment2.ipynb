{
 "cells": [
  {
   "cell_type": "code",
   "execution_count": null,
   "metadata": {},
   "outputs": [],
   "source": [
    "\n",
    "def l(x):\n",
    "    s=0\n",
    "    for i in x:\n",
    "        s+=1\n",
    "    print(s)\n",
    "l(input(\"Enter the String \"))"
   ]
  },
  {
   "cell_type": "code",
   "execution_count": 1,
   "metadata": {},
   "outputs": [
    {
     "name": "stdout",
     "output_type": "stream",
     "text": [
      "Enter the String komal\n",
      "Enter the String rajput\n",
      "komalrajput\n"
     ]
    }
   ],
   "source": [
    "s=input(\"Enter the String \")\n",
    "a=input(\"Enter the String \")\n",
    "print(s+a)"
   ]
  },
  {
   "cell_type": "code",
   "execution_count": 6,
   "metadata": {},
   "outputs": [
    {
     "name": "stdout",
     "output_type": "stream",
     "text": [
      "alphabets: 15  Numbers: 3\n"
     ]
    }
   ],
   "source": [
    "def func(x):\n",
    "    n=0\n",
    "    a=0\n",
    "    for i in x:\n",
    "        if(i==\" \"):\n",
    "            continue\n",
    "        elif(i.isalpha()):\n",
    "            a+=1\n",
    "        elif(i.isdigit()):\n",
    "            n+=1\n",
    "        \n",
    "    print(\"alphabets:\",a,\" Numbers:\",n)\n",
    "func(input(\"Enter the String \"))\n"
   ]
  },
  {
   "cell_type": "code",
   "execution_count": 7,
   "metadata": {},
   "outputs": [
    {
     "name": "stdout",
     "output_type": "stream",
     "text": [
      "Enter the String kojaas\n",
      "KOJAAS\n"
     ]
    }
   ],
   "source": [
    "print(input(\"Enter the String \").upper())"
   ]
  },
  {
   "cell_type": "code",
   "execution_count": 10,
   "metadata": {},
   "outputs": [
    {
     "name": "stdout",
     "output_type": "stream",
     "text": [
      "Enter the String zdjhKKKKKKKKKKKKKKKKKKKKK\n",
      "Uppercase: 21 Lowercase: 4\n"
     ]
    }
   ],
   "source": [
    "def abc(x):\n",
    "    u=0\n",
    "    l=0\n",
    "    for i in x:\n",
    "        if(i.islower()):\n",
    "            l+=1\n",
    "        elif(i.isupper()):\n",
    "            u+=1\n",
    "    print(\"Uppercase:\",u,\"Lowercase:\",l) \n",
    "abc(input(\"Enter the String \"))"
   ]
  },
  {
   "cell_type": "code",
   "execution_count": 12,
   "metadata": {},
   "outputs": [
    {
     "name": "stdout",
     "output_type": "stream",
     "text": [
      "Enter the String KomAl@ Sje\n",
      "kOMaL@ sJE\n"
     ]
    }
   ],
   "source": [
    "def abc(x):\n",
    "    a=\"\"\n",
    "    for i in x:\n",
    "        if(i.islower()):\n",
    "            a+=(i.upper())\n",
    "        elif(i.isupper()):\n",
    "            a+=(i.lower())\n",
    "        else:\n",
    "            a+=i\n",
    "    print(a)\n",
    "abc(input(\"Enter the String \"))"
   ]
  },
  {
   "cell_type": "code",
   "execution_count": 16,
   "metadata": {},
   "outputs": [
    {
     "name": "stdout",
     "output_type": "stream",
     "text": [
      "Enter the String nbkbuzusdshvpiwuhrgiaurjvnliuugv\n",
      "Enter the character: i\n",
      "Total times of i is 3\n"
     ]
    }
   ],
   "source": [
    "\n",
    "def abc(x):\n",
    "    y=input(\"Enter the character: \")\n",
    "    c=0\n",
    "    for i in x:\n",
    "        if(i==y):\n",
    "            c+=1\n",
    "    print(\"Total times of\",y,\"is\",c)\n",
    "    \n",
    "abc(input(\"Enter the String \"))\n"
   ]
  },
  {
   "cell_type": "code",
   "execution_count": 14,
   "metadata": {},
   "outputs": [
    {
     "name": "stdout",
     "output_type": "stream",
     "text": [
      "Enter the String dad\n",
      "dad is a pallindrome\n"
     ]
    }
   ],
   "source": [
    "def abc(x):\n",
    "    a=x[::-1]\n",
    "    if(x==a):\n",
    "        print(x,\"is a pallindrome\")\n",
    "    else:\n",
    "        print(x,\"is not a pallindome\")\n",
    "\n",
    "abc(input(\"Enter the String \"))"
   ]
  },
  {
   "cell_type": "code",
   "execution_count": 21,
   "metadata": {},
   "outputs": [
    {
     "name": "stdout",
     "output_type": "stream",
     "text": [
      "Enter the String komal rajput\n",
      "Enter the position 1\n",
      "Enter the letter a\n",
      "kamal rajput"
     ]
    }
   ],
   "source": [
    "def abc(a,b,c):\n",
    "    x= list(a)\n",
    "    x.pop(b)\n",
    "    x.insert(b,c)\n",
    "    for i in x:\n",
    "        print(i,end=\"\")\n",
    "abc(input(\"Enter the String \"),int(input(\"Enter the position \")),input(\"Enter the letter \"))"
   ]
  },
  {
   "cell_type": "code",
   "execution_count": 47,
   "metadata": {},
   "outputs": [
    {
     "name": "stdout",
     "output_type": "stream",
     "text": [
      "Enter the String 10010011011001011\n",
      "Enter the no. 3\n",
      "False\n"
     ]
    }
   ],
   "source": [
    "def abc(b,k):\n",
    "    c=0\n",
    "    for i in b:\n",
    "        if(i==\"1\"):\n",
    "            c+=1\n",
    "            if(c==k):\n",
    "                return True\n",
    "            else:\n",
    "                pass\n",
    "        else:\n",
    "            c=0\n",
    "            pass\n",
    "            \n",
    "    return False\n",
    "\n",
    "print(abc(input(\"Enter the String \"),int(input(\"Enter the no. \"))))"
   ]
  },
  {
   "cell_type": "code",
   "execution_count": 48,
   "metadata": {},
   "outputs": [
    {
     "name": "stdout",
     "output_type": "stream",
     "text": [
      "Enter the String adfo\n",
      "ofda\n"
     ]
    }
   ],
   "source": [
    "c=input(\"Enter the String \")\n",
    "print(c[::-1])"
   ]
  },
  {
   "cell_type": "code",
   "execution_count": 15,
   "metadata": {},
   "outputs": [
    {
     "name": "stdout",
     "output_type": "stream",
     "text": [
      "Enter the String kkomal\n",
      "o  is non-repeated\n",
      "m  is non-repeated\n",
      "a  is non-repeated\n",
      "l  is non-repeated\n"
     ]
    }
   ],
   "source": [
    "a=input(\"Enter the String \")\n",
    "c=(list((map(a.count,a))))\n",
    "x=0\n",
    "for i in c:\n",
    "    if(i==1):\n",
    "        print(a[x],\" is non-repeated\")\n",
    "    x+=1\n",
    "  \n"
   ]
  },
  {
   "cell_type": "code",
   "execution_count": 17,
   "metadata": {},
   "outputs": [
    {
     "name": "stdout",
     "output_type": "stream",
     "text": [
      "Enter the String aaaaa\n",
      "Enter the String aaaa\n",
      "{'a'}\n",
      "{'a'}\n"
     ]
    }
   ],
   "source": [
    "s=input(\"Enter the String \")\n",
    "v=input(\"Enter the String \")\n"
   ]
  },
 
  {
   "cell_type": "code",
   "execution_count": null,
   "metadata": {},
   "outputs": [],
   "source": []
  }
 ],
 "metadata": {
  "kernelspec": {
   "display_name": "Python 3",
   "language": "python",
   "name": "python3"
  },
  "language_info": {
   "codemirror_mode": {
    "name": "ipython",
    "version": 3
   },
   "file_extension": ".py",
   "mimetype": "text/x-python",
   "name": "python",
   "nbconvert_exporter": "python",
   "pygments_lexer": "ipython3",
   "version": "3.7.3"
  }
 },
 "nbformat": 4,
 "nbformat_minor": 2
}
