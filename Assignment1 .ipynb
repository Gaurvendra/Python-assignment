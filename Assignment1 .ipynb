{
 "cells": [
  {
   "cell_type": "markdown",
   "metadata": {},
   "source": [
    "# **Assignment 1**\n",
    "*Gaurvendra Singh*\n",
    "\n",
    "\n",
    "\n",
    "\n",
    "\n",
    "\n",
    "\n",
    "\n",
    "\n",
    "\n",
    "\n"
   ]
  },
  {
   "cell_type": "markdown",
   "metadata": {},
   "source": [
    "**Write a program to swap two variables. Example: x = 3, y = 5 ==> y = 3 , x = 5**"
   ]
  },
  {
   "cell_type": "code",
   "execution_count": null,
   "metadata": {},
   "outputs": [],
   "source": [
    "def swap(a,b):\n",
    "    a=a+b\n",
    "    b=a-b\n",
    "    a=a-b\n",
    "    print(\"Swapped no. are : \",a,b)\n",
    "a=int(input(\"Enter the no.\"))\n",
    "b=int(input(\"Enter the no.\"))\n",
    "print(\"Your no. are : \",a,b)\n",
    "swap(a,b)\n",
    "\n",
    "\n",
    "    "
   ]
  },
  {
   "cell_type": "markdown",
   "metadata": {},
   "source": [
    "**Write a program to check if a number is odd or even.**"
   ]
  },
  {
   "cell_type": "code",
   "execution_count": null,
   "metadata": {},
   "outputs": [],
   "source": [
    "def check(n):\n",
    "    if(n%2==0):\n",
    "        print(\"Even!!!!\")\n",
    "    else:\n",
    "        print(\"Odd!!!!\")\n",
    "check(int(input(\"Enter the no.\")))"
   ]
  },
  {
   "cell_type": "markdown",
   "metadata": {},
   "source": [
    "**Write a program to find the square root of a number.** "
   ]
  },
  {
   "cell_type": "code",
   "execution_count": null,
   "metadata": {},
   "outputs": [],
   "source": [
    "import math\n",
    "a=int(input(\"Enter the no. \"))\n",
    "print(\"Square Root = \",math.sqrt(a))\n"
   ]
  },
  {
   "cell_type": "markdown",
   "metadata": {},
   "source": [
    "\n",
    "**Write a program to print all the natural numbers from 1 to n (user input). Then print the same in reverse order.**"
   ]
  },
  {
   "cell_type": "code",
   "execution_count": null,
   "metadata": {},
   "outputs": [],
   "source": [
    "for i in range(1,int(input(\"Enter the no.\"))+1):\n",
    "    print(i, end=\":\")\n",
    "for i in range(int(input(\"Enter the no.\")),0,-1):\n",
    "    print(i, end=\":\")"
   ]
  },
  {
   "cell_type": "markdown",
   "metadata": {},
   "source": [
    "\n",
    " Write a program which prints volume of a sphere, given the radius. (use pi = 3.14). "
   ]
  },
  {
   "cell_type": "code",
   "execution_count": null,
   "metadata": {},
   "outputs": [],
   "source": [
    "def volume(r):\n",
    "    v=(4/3)*3.14*(r**3)\n",
    "    print(\"Volume of the Sphere = \",v)\n",
    "volume(int(input(\"Enter the radius(cm): \")))"
   ]
  },
  {
   "cell_type": "markdown",
   "metadata": {},
   "source": [
    "\n",
    "**Print all odd numbers and even numbers between 1 to 100.**"
   ]
  },
  {
   "cell_type": "code",
   "execution_count": null,
   "metadata": {},
   "outputs": [],
   "source": [
    "for i in range(1,100+1):\n",
    "    if(i%2==0):\n",
    "        print(i,\"Even!!!\")\n",
    "    else:\n",
    "        print(i,\"Odd!!!\")\n",
    "        "
   ]
  },
  {
   "cell_type": "markdown",
   "metadata": {},
   "source": [
    "\n",
    " Write a program to compute roots of a quadratic equation when coefficients a, b and c are known (entered by the user). "
   ]
  },
  {
   "cell_type": "code",
   "execution_count": null,
   "metadata": {},
   "outputs": [],
   "source": [
    "import math\n",
    "\n",
    "a = int(input(\"Please Enter a Value of a Quadratic Equation : \"))\n",
    "b = int(input(\"Please Enter b Value of a Quadratic Equation : \"))\n",
    "c = int(input(\"Please Enter c Value of a Quadratic Equation : \"))\n",
    "\n",
    "discriminant = (b * b) - (4 * a * c)\n",
    "\n",
    "if(discriminant > 0):\n",
    "    root1 = (-b + math.sqrt(discriminant) / (2 * a))\n",
    "    root2 = (-b - math.sqrt(discriminant) / (2 * a))\n",
    "    print(\"Two Distinct Real Roots Exists: root1 = {} and root2 = {}\".format(root1, root2))\n",
    "elif(discriminant == 0):\n",
    "    root1 = root2 = -b / (2 * a)\n",
    "    print(\"Two Equal and Real Roots Exists: root1 = {} and root2 = {}\".format(root1, root2))\n",
    "elif(discriminant < 0):\n",
    "    print(\"Root are imaginary!!!!\")"
   ]
  },
  {
   "cell_type": "markdown",
   "metadata": {},
   "source": [
    "  \n",
    "**Count the number of digits in a number. Example: 5342 has 4 digits.** "
   ]
  },
  {
   "cell_type": "code",
   "execution_count": null,
   "metadata": {},
   "outputs": [],
   "source": [
    "n=int(input(\"Enter the no.\"))\n",
    "c=0\n",
    "while(n!=0):\n",
    "    n=n//10\n",
    "    c+=1\n",
    "print(\"Count : \",c)"
   ]
  },
  {
   "cell_type": "markdown",
   "metadata": {},
   "source": [
    " \n",
    " **Write a program to check if a number is prime or not. Example: 7 ==> True, 6 ==> False**"
   ]
  },
  {
   "cell_type": "code",
   "execution_count": null,
   "metadata": {},
   "outputs": [],
   "source": [
    "def prime(n): \n",
    "    for i in range(2,n): \n",
    "        if n % i == 0: \n",
    "            return False\n",
    "    return True\n",
    "\n",
    "x = prime(int(input(\"Enter the no. \"))) \n",
    "print(x)\n",
    " \n"
   ]
  },
  {
   "cell_type": "markdown",
   "metadata": {},
   "source": [
    "**Write a program that asks the user for a number n and prints the sum of the numbers 1 to n such that only multiples of three or five are considered in the sum, e.g. 3, 5, 6, 9, 10, 12, 15 for n=17.**\n"
   ]
  },
  {
   "cell_type": "code",
   "execution_count": null,
   "metadata": {},
   "outputs": [],
   "source": [
    "sum=0\n",
    "for n in range(1,int(input(\"Enter the no. \"))+1):\n",
    "    if (n%3==0) or (n%5==0):\n",
    "        sum+=n\n",
    "print(sum)"
   ]
  },
  {
   "cell_type": "markdown",
   "metadata": {},
   "source": [
    "**Write a program that asks the user for a number n and gives them the possibility to choose between computing the sum and computing the product of 1,…,n**"
   ]
  },
  {
   "cell_type": "code",
   "execution_count": null,
   "metadata": {},
   "outputs": [],
   "source": [
    "n=int(input(\"Enter the no. \"))\n",
    "print(\"Press 1 for Addition or Press 2 for Multiplication\")\n",
    "ch=int(input(\"Enter the choice \"))\n",
    "sum=0\n",
    "mul=1\n",
    "if ch==1:\n",
    "    for i in range(1,n+1):\n",
    "        sum+=i\n",
    "    print(sum)\n",
    "elif ch==2:\n",
    "    for i in range(1,n+1):\n",
    "        mul*=i\n",
    "    print(mul)\n",
    "else:\n",
    "    print(\"Get out!!!!!!\")"
   ]
  },
  {
   "cell_type": "markdown",
   "metadata": {},
   "source": [
    "**Find the sum of all the multiples of 3 or 5 below 1000.**"
   ]
  },
  {
   "cell_type": "code",
   "execution_count": null,
   "metadata": {},
   "outputs": [],
   "source": [
    "sum=0\n",
    "for n in range(1,1000+1):\n",
    "    if (n%3==0) or (n%5==0):\n",
    "        sum+=n\n",
    "print(sum)"
   ]
  },
  {
   "cell_type": "markdown",
   "metadata": {},
   "source": [
    "\n",
    "**Write a program which will find all such numbers which are divisible by 7 but are not a multiple of 5, between 2000 and 3200 (both included).**"
   ]
  },
  {
   "cell_type": "code",
   "execution_count": null,
   "metadata": {},
   "outputs": [],
   "source": [
    "for n in range(2000,3200+1):\n",
    "    if (n%7==0) and (n%5!=0):\n",
    "        print(n)"
   ]
  },
  {
   "cell_type": "markdown",
   "metadata": {},
   "source": [
    "\n",
    "**Find the difference between the sum of the squares of the first one hundred natural numbers and the square of the sum.**"
   ]
  },
  {
   "cell_type": "code",
   "execution_count": null,
   "metadata": {},
   "outputs": [],
   "source": [
    "sum=0\n",
    "for n in range(1,100+1):\n",
    "    j=n**2\n",
    "    sum+=j\n",
    "print(sum-sum**2)"
   ]
  },
  {
   "cell_type": "markdown",
   "metadata": {},
   "source": [
    " \n",
    "**Write a program which repeatedly reads numbers until the user enters \"stop\". Once \"stop\" is entered, print out the total, count, and average of the numbers. If the user enters anything other than a number then also stop**"
   ]
  },
  {
   "cell_type": "code",
   "execution_count": null,
   "metadata": {
    "scrolled": true
   },
   "outputs": [],
   "source": [
    "c=0\n",
    "sum=0\n",
    "while(1):\n",
    "    n=input(\"Enter the no. \")\n",
    "    if (n==\"stop\"):\n",
    "            print(\"Average : \",sum/c)\n",
    "            print(\"Total : \",sum)\n",
    "            print(\"Count : \",c)\n",
    "            break\n",
    "    if (not n.isdigit()):\n",
    "        break\n",
    "    n=int(n)\n",
    "    sum+=n\n",
    "    c+=1\n",
    "    print(\"Enter 'stop' to exit\")\n",
    "    "
   ]
  },
  {
   "cell_type": "markdown",
   "metadata": {},
   "source": [
    "**Write a program that prints all prime numbers till n. (n is the user input)**"
   ]
  },
  {
   "cell_type": "code",
   "execution_count": null,
   "metadata": {},
   "outputs": [],
   "source": [
    "number = int(input(\"Prime numbers between 2 and \"))\n",
    "for num in range(2,number + 1):\n",
    "       if num > 1:\n",
    "            for i in range(2,num):\n",
    "                if (num % i) == 0:\n",
    "                     break\n",
    "            else:\n",
    "                print(num)"
   ]
  },
  {
   "cell_type": "markdown",
   "metadata": {},
   "source": [
    "\n",
    " **Write a program which can compute the factorial of a given number.**  \n",
    " "
   ]
  },
  {
   "cell_type": "code",
   "execution_count": null,
   "metadata": {},
   "outputs": [],
   "source": [
    "fact = 1\n",
    "  \n",
    "for i in range(1,int(input(\"Enter the no. \"))+1): \n",
    "    fact = fact * i \n",
    "      \n",
    "print (\"The factorial is : \",end=\"\") \n",
    "print (fact)"
   ]
  },
  {
   "cell_type": "markdown",
   "metadata": {},
   "source": [
    " \n",
    "**Write a program for printing fibonacci series till n.**"
   ]
  },
  {
   "cell_type": "code",
   "execution_count": null,
   "metadata": {},
   "outputs": [],
   "source": [
    "def Fib(n): \n",
    "      \n",
    "    f1 = 0\n",
    "    f2 = 1\n",
    "    if (n < 1): \n",
    "        return\n",
    "    for x in range(0, n): \n",
    "        print(f2, end = \" \") \n",
    "        next = f1 + f2 \n",
    "        f1 = f2 \n",
    "        f2 = next\n",
    "Fib(int(input(\"Enter the no. \")))"
   ]
  },
  {
   "cell_type": "markdown",
   "metadata": {},
   "source": [
    "**Write a program to find the LCM of two numbers.**"
   ]
  },
  {
   "cell_type": "code",
   "execution_count": null,
   "metadata": {},
   "outputs": [],
   "source": [
    " \n",
    "def gcd(a,b): \n",
    "    if a == 0: \n",
    "        return b \n",
    "    return gcd(b % a, a) \n",
    "def lcm(a,b): \n",
    "    return (a*b) / gcd(a,b) \n",
    "a=int(input(\"Enter the no. \"))\n",
    "b=int(input(\"Enter the no. \"))\n",
    "  \n",
    "print('LCM of', a, 'and', b, 'is', lcm(a, b)) "
   ]
  },
  {
   "cell_type": "markdown",
   "metadata": {},
   "source": [
    "\n",
    " **Write a program to find factors of a number.**\n",
    " "
   ]
  },
  {
   "cell_type": "code",
   "execution_count": null,
   "metadata": {},
   "outputs": [],
   "source": [
    "def print_factors(x):\n",
    "    print(\"The factors of\",x,\"are:\")\n",
    "    for i in range(1, x + 1):\n",
    "        if x % i == 0:\n",
    "            print(i,end=\",\")\n",
    "num = int(input(\"Enter a number: \") )\n",
    "print_factors(num)"
   ]
  },
  {
   "cell_type": "markdown",
   "metadata": {},
   "source": [
    "**Write a program to print the following pattern.**"
   ]
  },
  {
   "cell_type": "code",
   "execution_count": null,
   "metadata": {},
   "outputs": [],
   "source": [
    "for num in range(6):\n",
    "    for i in range(num):\n",
    "        print (num, end=\" \") #print number\n",
    "    print(\"\\n\")"
   ]
  },
  {
   "cell_type": "code",
   "execution_count": null,
   "metadata": {},
   "outputs": [],
   "source": [
    "for num in range(6):\n",
    "    print(\"*\"*num)"
   ]
  },
  {
   "cell_type": "code",
   "execution_count": null,
   "metadata": {},
   "outputs": [],
   "source": [
    "for num in range(6,0,-1):\n",
    "    print(\"*\"*num)"
   ]
  },
  {
   "cell_type": "code",
   "execution_count": null,
   "metadata": {},
   "outputs": [],
   "source": [
    " \n",
    "a = 65\n",
    "for i in range(0, 6):\n",
    "    for j in range(0, i):\n",
    "        character  = chr(a)\n",
    "        print(character, end=' ')\n",
    "        a+=1\n",
    "    print(\" \")"
   ]
  },
  {
   "cell_type": "code",
   "execution_count": null,
   "metadata": {},
   "outputs": [],
   "source": [
    "a = 48\n",
    "for i in range(0, 5):\n",
    "    for j in range(0, i):\n",
    "        character  = chr(a)\n",
    "        print(character, end=' ')\n",
    "        a+=1\n",
    "    print(\" \")"
   ]
  },
  {
   "cell_type": "code",
   "execution_count": null,
   "metadata": {},
   "outputs": [],
   "source": [
    "k=1\n",
    "for i in range(5,0,-1):\n",
    "    print(\" \"*i,\"*\"*k,sep=\"\")\n",
    "    k=k+2\n",
    "    "
   ]
  },
  {
   "cell_type": "markdown",
   "metadata": {},
   "source": [
    " \n",
    "**Write a program that computes the value of a+aa+aaa+aaaa with a given digit as the value of a. Suppose the following input is supplied to the program: 9, Then, the output should be: 9 + 99 + 999 + 9999 =  11106**"
   ]
  },
  {
   "cell_type": "code",
   "execution_count": null,
   "metadata": {},
   "outputs": [],
   "source": [
    "n=int(input(\"Enter the no. \"))\n",
    "j=n\n",
    "t=int(input(\"Enter the times \"))\n",
    "sum=0\n",
    "for i in range(t):\n",
    "    sum+=n\n",
    "    print(n,\"+\",end=\" \")\n",
    "    n=n*10+j\n",
    "    \n",
    "print(\" = \",sum)    "
   ]
  }
 ],
 "metadata": {
  "kernelspec": {
   "display_name": "Python 3",
   "language": "python",
   "name": "python3"
  },
  "language_info": {
   "codemirror_mode": {
    "name": "ipython",
    "version": 3
   },
   "file_extension": ".py",
   "mimetype": "text/x-python",
   "name": "python",
   "nbconvert_exporter": "python",
   "pygments_lexer": "ipython3",
   "version": "3.7.3"
  }
 },
 "nbformat": 4,
 "nbformat_minor": 2
}
