{
 "cells": [
  {
   "cell_type": "code",
   "execution_count": 21,
   "metadata": {},
   "outputs": [
    {
     "data": {
      "text/plain": [
       "0"
      ]
     },
     "execution_count": 21,
     "metadata": {},
     "output_type": "execute_result"
    }
   ],
   "source": [
    "def abc(x,y):\n",
    "    return x**y\n",
    "x=int(input(\"Enter a number : \"))\n",
    "y=int(input(\"Enter a number : \"))\n",
    "z=abc(x,y)\n",
    "print(z)"
   ]
  },
  {
   "cell_type": "code",
   "execution_count": 25,
   "metadata": {},
   "outputs": [
    {
     "name": "stdout",
     "output_type": "stream",
     "text": [
      "Enter the String \n",
      "Enter the String \n",
      "HelloWorld\n"
     ]
    }
   ],
   "source": [
    "def func(s1=\"Hello\",s2=\"World\"):\n",
    "        return s1+s2\n",
    "s=input(\"Enter the String \")\n",
    "v=input(\"Enter the String \")\n",
    "print(func(s,v))\n"
   ]
  },
  {
   "cell_type": "code",
   "execution_count": 26,
   "metadata": {},
   "outputs": [
    {
     "name": "stdout",
     "output_type": "stream",
     "text": [
      "Enter a number : 6\n"
     ]
    },
    {
     "data": {
      "text/plain": [
       "True"
      ]
     },
     "execution_count": 26,
     "metadata": {},
     "output_type": "execute_result"
    }
   ],
   "source": [
    "def abc(x):\n",
    "    if(x%2==0):\n",
    "        return True\n",
    "    else:\n",
    "        return False\n",
    "    \n",
    "abc(int(input(\"Enter a number : \")))"
   ]
  },
  {
   "cell_type": "code",
   "execution_count": 27,
   "metadata": {},
   "outputs": [
    {
     "name": "stdout",
     "output_type": "stream",
     "text": [
      "Enter a number : 21\n"
     ]
    },
    {
     "data": {
      "text/plain": [
       "False"
      ]
     },
     "execution_count": 27,
     "metadata": {},
     "output_type": "execute_result"
    }
   ],
   "source": [
    "def abc(x):\n",
    "    flag=0\n",
    "    for j in range(2,x//2):\n",
    "        if (x%j==0):\n",
    "            flag=1\n",
    "        else:\n",
    "            pass\n",
    "    if flag==1:\n",
    "        return False\n",
    "    else:\n",
    "        return True\n",
    "abc(int(input(\"Enter a number : \")))"
   ]
  },
  {
   "cell_type": "code",
   "execution_count": 29,
   "metadata": {},
   "outputs": [
    {
     "name": "stdout",
     "output_type": "stream",
     "text": [
      "Enter the String gv\n"
     ]
    },
    {
     "data": {
      "text/plain": [
       "False"
      ]
     },
     "execution_count": 29,
     "metadata": {},
     "output_type": "execute_result"
    }
   ],
   "source": [
    "def abc(s):\n",
    "    if(s==s[::-1]):\n",
    "        return True\n",
    "    else:\n",
    "        return False\n",
    "abc(input(\"Enter the String \"))"
   ]
  },
  {
   "cell_type": "code",
   "execution_count": 30,
   "metadata": {},
   "outputs": [
    {
     "name": "stdout",
     "output_type": "stream",
     "text": [
      "Enter the String komal\n",
      "5\n"
     ]
    }
   ],
   "source": [
    "def abc(s):\n",
    "    return len(s)\n",
    "\n",
    "print(abc(input(\"Enter the String \")))"
   ]
  },
  {
   "cell_type": "code",
   "execution_count": 5,
   "metadata": {},
   "outputs": [
    {
     "name": "stdout",
     "output_type": "stream",
     "text": [
      "Enter a number : 5\n",
      "Enter a number : 6\n",
      "Enter a number : 9\n",
      "Maximum of 3 numbers is  9\n"
     ]
    }
   ],
   "source": [
    "l=[]\n",
    "for i in range(3):\n",
    "    a=int(input(\"Enter a number : \"))\n",
    "    l.append(a)\n",
    "print(\"Maximum of 3 numbers is \",max(l))"
   ]
  },
  {
   "cell_type": "code",
   "execution_count": 6,
   "metadata": {},
   "outputs": [
    {
     "name": "stdout",
     "output_type": "stream",
     "text": [
      "Enter a number n1 : 10\n",
      "Enter a number n2 : 4\n",
      "5\n",
      "11\n",
      "14\n",
      "17\n",
      "23\n",
      "26\n",
      "29\n"
     ]
    }
   ],
   "source": [
    "n1=int(input(\"Enter a number n1 : \"))\n",
    "n2=int(input(\"Enter a number n2 : \"))\n",
    "for i in range(1,n1+1):\n",
    "    x=(3*i)+2\n",
    "    if(x%n2 !=0):\n",
    "        print(x)"
   ]
  },
  {
   "cell_type": "code",
   "execution_count": 7,
   "metadata": {},
   "outputs": [
    {
     "name": "stdout",
     "output_type": "stream",
     "text": [
      "Enter a number121\n",
      "121\n"
     ]
    }
   ],
   "source": [
    "n=input(\"Enter a number\")\n",
    "print(n[::-1])"
   ]
  },
  {
   "cell_type": "code",
   "execution_count": 8,
   "metadata": {},
   "outputs": [
    {
     "name": "stdout",
     "output_type": "stream",
     "text": [
      "Enter a number : 1465151000\n",
      "1465151555\n"
     ]
    }
   ],
   "source": [
    "a=input(\"Enter a number : \")\n",
    "c=a.replace(\"0\",\"5\")\n",
    "print(c)\n"
   ]
  },
  {
   "cell_type": "code",
   "execution_count": 9,
   "metadata": {},
   "outputs": [
    {
     "name": "stdout",
     "output_type": "stream",
     "text": [
      "Enter a number : 5\n",
      "5\n",
      "10\n",
      "15\n",
      "20\n",
      "25\n",
      "30\n",
      "35\n",
      "40\n",
      "45\n",
      "50\n"
     ]
    }
   ],
   "source": [
    "a=int(input(\"Enter a number : \"))\n",
    "for i in range(1,11):\n",
    "    print(i*a)"
   ]
  },
  {
   "cell_type": "code",
   "execution_count": 14,
   "metadata": {},
   "outputs": [
    {
     "name": "stdout",
     "output_type": "stream",
     "text": [
      "Enter a number 123\n",
      "6\n"
     ]
    }
   ],
   "source": [
    "n=input(\"Enter a number \")\n",
    "a=list(map(lambda x:int(x),n))\n",
    "a=sum(a)\n",
    "print(a)"
   ]
  },
  {
   "cell_type": "code",
   "execution_count": 47,
   "metadata": {},
   "outputs": [
    {
     "name": "stdout",
     "output_type": "stream",
     "text": [
      "Enter the String komal@13!!@\n",
      "komal13\n"
     ]
    }
   ],
   "source": [
    "s=input(\"Enter the String \")\n",
    "b=len(s)\n",
    "x=\"!()-[]{};:\\'\\\"\\,<>./?@#$%^&*_\"\n",
    "c=\"\"\n",
    "for i in range(0,b):\n",
    "    if (s[i] in x):\n",
    "        c=c+\"\"\n",
    "    else:\n",
    "        c=c+s[i]\n",
    "    \n",
    "print(c)\n",
    "    "
   ]
  },
  {
   "cell_type": "code",
   "execution_count": 48,
   "metadata": {},
   "outputs": [
    {
     "name": "stdout",
     "output_type": "stream",
     "text": [
      "Enter a number 123\n",
      "321\n"
     ]
    }
   ],
   "source": [
    "n=input(\"Enter a number \")\n",
    "print(n[::-1])"
   ]
  },
  {
   "cell_type": "code",
   "execution_count": null,
   "metadata": {},
   "outputs": [],
   "source": []
  }
 ],
 "metadata": {
  "kernelspec": {
   "display_name": "Python 3",
   "language": "python",
   "name": "python3"
  },
  "language_info": {
   "codemirror_mode": {
    "name": "ipython",
    "version": 3
   },
   "file_extension": ".py",
   "mimetype": "text/x-python",
   "name": "python",
   "nbconvert_exporter": "python",
   "pygments_lexer": "ipython3",
   "version": "3.7.3"
  }
 },
 "nbformat": 4,
 "nbformat_minor": 2
}
